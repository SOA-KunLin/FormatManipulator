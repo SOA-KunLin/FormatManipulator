{
 "cells": [
  {
   "cell_type": "code",
   "execution_count": 2,
   "metadata": {
    "collapsed": true
   },
   "outputs": [],
   "source": [
    "import FormatManipulator.PDBManipulator as pdbm\n",
    "import FormatManipulator.CSVManipulator as csvm"
   ]
  },
  {
   "cell_type": "markdown",
   "metadata": {},
   "source": [
    "#### read input"
   ]
  },
  {
   "cell_type": "code",
   "execution_count": 3,
   "metadata": {
    "collapsed": false
   },
   "outputs": [],
   "source": [
    "# conservation score source\n",
    "source_file = pdbm.readFile('Egln2_consurf.pdb')\n",
    "\n",
    "# modified target file\n",
    "target_file = pdbm.readFile('EglN2_psf.pdb')"
   ]
  },
  {
   "cell_type": "markdown",
   "metadata": {},
   "source": [
    "#### extract conservation score from source"
   ]
  },
  {
   "cell_type": "code",
   "execution_count": 4,
   "metadata": {
    "collapsed": false
   },
   "outputs": [],
   "source": [
    "source_file_selection_ATOM = pdbm.selectLine(source_file, \"1-4=ATOM\")\n",
    "source_file_selection_CA   = pdbm.selectLine(source_file, \"14-15=CA\", source_file_selection_ATOM)\n",
    "conservation_score         = pdbm.extract(source_file, source_file_selection_CA, \"61-66\")  # for each CA"
   ]
  },
  {
   "cell_type": "code",
   "execution_count": 1,
   "metadata": {
    "collapsed": false,
    "scrolled": false
   },
   "outputs": [],
   "source": [
    "#conservation_score"
   ]
  },
  {
   "cell_type": "markdown",
   "metadata": {
    "collapsed": true
   },
   "source": [
    "#### construct map for deciding which lines to be replaced by one conservation score"
   ]
  },
  {
   "cell_type": "code",
   "execution_count": 5,
   "metadata": {
    "collapsed": true
   },
   "outputs": [],
   "source": [
    "target_file_selection_ATOM = pdbm.selectLine(target_file, \"1-4=ATOM\")\n",
    "target_file_selection_CA   = pdbm.selectLine(target_file, \"14-15=CA\", target_file_selection_ATOM)"
   ]
  },
  {
   "cell_type": "code",
   "execution_count": 6,
   "metadata": {
    "collapsed": false
   },
   "outputs": [],
   "source": [
    "target_file_replace_range_map = [ pdbm.selectLine(target_file, \"23-26=\" + target_file[CA][23-1:26], target_file_selection_ATOM) for CA in target_file_selection_CA]"
   ]
  },
  {
   "cell_type": "code",
   "execution_count": 28,
   "metadata": {
    "collapsed": false
   },
   "outputs": [],
   "source": [
    "#target_file_replace_range_map"
   ]
  },
  {
   "cell_type": "markdown",
   "metadata": {},
   "source": [
    "#### perform replacement"
   ]
  },
  {
   "cell_type": "code",
   "execution_count": 7,
   "metadata": {
    "collapsed": false
   },
   "outputs": [],
   "source": [
    "for task, score in zip(target_file_replace_range_map, conservation_score):\n",
    "    replace_text = [score] * len(task)\n",
    "    pdbm.replace(target_file, task, \"61-66\", replace_text)"
   ]
  },
  {
   "cell_type": "markdown",
   "metadata": {},
   "source": [
    "#### write pdb"
   ]
  },
  {
   "cell_type": "code",
   "execution_count": 8,
   "metadata": {
    "collapsed": false
   },
   "outputs": [],
   "source": [
    "pdbm.writeFile(target_file, \"EglN2_psf_consurf.pdb\")"
   ]
  },
  {
   "cell_type": "code",
   "execution_count": 75,
   "metadata": {
    "collapsed": false
   },
   "outputs": [],
   "source": [
    "#target_file"
   ]
  }
 ],
 "metadata": {
  "kernelspec": {
   "display_name": "Python 2",
   "language": "python",
   "name": "python2"
  },
  "language_info": {
   "codemirror_mode": {
    "name": "ipython",
    "version": 2
   },
   "file_extension": ".py",
   "mimetype": "text/x-python",
   "name": "python",
   "nbconvert_exporter": "python",
   "pygments_lexer": "ipython2",
   "version": "2.7.12"
  }
 },
 "nbformat": 4,
 "nbformat_minor": 0
}
